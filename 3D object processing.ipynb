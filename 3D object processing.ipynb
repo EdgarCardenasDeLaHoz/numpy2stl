{
 "cells": [
  {
   "cell_type": "code",
   "execution_count": 34,
   "metadata": {},
   "outputs": [
    {
     "name": "stdout",
     "output_type": "stream",
     "text": [
      "Using matplotlib backend: Qt5Agg\n"
     ]
    }
   ],
   "source": [
    "import numpy as np \n",
    "import matplotlib.pyplot as plt\n",
    "\n",
    "import numpy2stl as np2stl\n",
    "\n",
    "%matplotlib"
   ]
  },
  {
   "cell_type": "markdown",
   "metadata": {},
   "source": [
    "## Generation facets from a random array "
   ]
  },
  {
   "cell_type": "code",
   "execution_count": 36,
   "metadata": {},
   "outputs": [
    {
     "name": "stdout",
     "output_type": "stream",
     "text": [
      "Creating top mesh...\n",
      "Computing edges...\n",
      "Creating Edges...\n",
      "Creating bottom...\n"
     ]
    }
   ],
   "source": [
    "mat = np.random.randint(20, high=30,  size=(10,10))\n",
    "mat[2:6,2:6] = -1\n",
    "facets= np2stl.numpy2stl(mat, solid=True, mask_val= 0)\n",
    "vectors = np.array([[facet[3:6],facet[6:9],facet[9:12]] for facet in facets])"
   ]
  },
  {
   "cell_type": "markdown",
   "metadata": {},
   "source": [
    "## View 3D object"
   ]
  },
  {
   "cell_type": "code",
   "execution_count": 37,
   "metadata": {},
   "outputs": [
    {
     "data": {
      "text/plain": [
       "<mpl_toolkits.mplot3d.axes3d.Axes3D at 0x226b3a02848>"
      ]
     },
     "execution_count": 37,
     "metadata": {},
     "output_type": "execute_result"
    }
   ],
   "source": [
    "normals = np2stl.calculate_normals(vectors)\n",
    "surfaces = np2stl.get_surfaces(vectors)\n",
    "\n",
    "surf_color = np.array([np.abs(normals[surf[0]]) for surf in surfaces])\n",
    "\n",
    "np2stl.draw_3D_vectors(vectors, surfaces=surfaces, surf_color=surf_color)"
   ]
  },
  {
   "cell_type": "markdown",
   "metadata": {},
   "source": [
    "## Simplify 3D Object and View it "
   ]
  },
  {
   "cell_type": "code",
   "execution_count": 38,
   "metadata": {
    "scrolled": false
   },
   "outputs": [
    {
     "data": {
      "text/plain": [
       "<mpl_toolkits.mplot3d.axes3d.Axes3D at 0x226b7b51708>"
      ]
     },
     "execution_count": 38,
     "metadata": {},
     "output_type": "execute_result"
    }
   ],
   "source": [
    "vectors_out = np2stl.simplify_object_3D(vectors)\n",
    "\n",
    "normals = np2stl.calculate_normals(vectors_out)\n",
    "surfaces = np2stl.get_surfaces(vectors_out)\n",
    "\n",
    "surf_color = np.array([np.abs(normals[surf[0]]) for surf in surfaces])\n",
    "\n",
    "np2stl.draw_3D_vectors(vectors_out, surfaces=surfaces, surf_color=surf_color )"
   ]
  },
  {
   "cell_type": "code",
   "execution_count": 15,
   "metadata": {},
   "outputs": [],
   "source": [
    "%lprun -f np2stl.simplify_object_3D np2stl.simplify_object_3D(vectors)"
   ]
  },
  {
   "cell_type": "code",
   "execution_count": 25,
   "metadata": {
    "scrolled": true
   },
   "outputs": [
    {
     "name": "stdout",
     "output_type": "stream",
     "text": [
      "Creating top mesh...\n",
      "Computing edges...\n",
      "Creating Edges...\n",
      "Creating bottom...\n"
     ]
    }
   ],
   "source": [
    "%lprun -f np2stl.numpy2stl np2stl.numpy2stl(mat, solid=True, mask_val= 0)"
   ]
  },
  {
   "cell_type": "markdown",
   "metadata": {},
   "source": [
    "## Use for editing modules"
   ]
  },
  {
   "cell_type": "code",
   "execution_count": 17,
   "metadata": {},
   "outputs": [
    {
     "name": "stdout",
     "output_type": "stream",
     "text": [
      "The autoreload extension is already loaded. To reload it, use:\n",
      "  %reload_ext autoreload\n",
      "The line_profiler extension is already loaded. To reload it, use:\n",
      "  %reload_ext line_profiler\n"
     ]
    }
   ],
   "source": [
    "%load_ext autoreload\n",
    "%autoreload 1\n",
    "%load_ext line_profiler\n",
    "%aimport numpy2stl"
   ]
  }
 ],
 "metadata": {
  "kernelspec": {
   "display_name": "Python 3",
   "language": "python",
   "name": "python3"
  },
  "language_info": {
   "codemirror_mode": {
    "name": "ipython",
    "version": 3
   },
   "file_extension": ".py",
   "mimetype": "text/x-python",
   "name": "python",
   "nbconvert_exporter": "python",
   "pygments_lexer": "ipython3",
   "version": "3.7.4"
  }
 },
 "nbformat": 4,
 "nbformat_minor": 2
}
