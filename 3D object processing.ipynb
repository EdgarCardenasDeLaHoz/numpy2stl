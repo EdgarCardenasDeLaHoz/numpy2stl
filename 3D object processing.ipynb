{
 "cells": [
  {
   "cell_type": "code",
   "execution_count": 1,
   "metadata": {},
   "outputs": [],
   "source": [
    "%load_ext autoreload\n",
    "%autoreload 1\n",
    "%aimport numpy2stl"
   ]
  },
  {
   "cell_type": "code",
   "execution_count": 2,
   "metadata": {},
   "outputs": [
    {
     "name": "stdout",
     "output_type": "stream",
     "text": [
      "Using matplotlib backend: Qt5Agg\n"
     ]
    }
   ],
   "source": [
    "import numpy as np \n",
    "import matplotlib.pyplot as plt\n",
    "import numpy2stl as np2stl\n",
    "\n",
    "%load_ext line_profiler\n",
    "%matplotlib"
   ]
  },
  {
   "cell_type": "markdown",
   "metadata": {},
   "source": [
    "## Generation facets from a random array "
   ]
  },
  {
   "cell_type": "code",
   "execution_count": 21,
   "metadata": {},
   "outputs": [
    {
     "name": "stdout",
     "output_type": "stream",
     "text": [
      "Creating top...\n",
      "Creating Edges...\n",
      "Creating bottom...\n",
      "[[21 23 24 29 23 29 26 21 25 27]\n",
      " [25 25 21 22 21 26 29 25 23 26]\n",
      " [23 28 -1 -1 -1 -1 22 24 27 23]\n",
      " [28 24 -1 -1 -1 -1 23 24 21 27]\n",
      " [28 27 -1 -1 -1 -1 28 26 25 28]\n",
      " [29 23 -1 -1 -1 -1 24 21 23 28]\n",
      " [26 29 27 21 21 26 21 21 23 27]\n",
      " [22 27 20 20 20 20 20 27 25 27]\n",
      " [29 26 20 20 20 20 20 26 24 27]\n",
      " [25 21 20 20 20 20 20 25 27 23]]\n"
     ]
    }
   ],
   "source": [
    "mat = np.random.randint(20, high=30,  size=(10,10))\n",
    "mat[2:6,2:6] = -1\n",
    "\n",
    "mat[7:10,2:7] = 20\n",
    "#mat[:,8] = np.linspace(10, 25, num=10, endpoint=True)\n",
    "#mat[:,9] = np.linspace(10, 25, num=10, endpoint=True)\n",
    "\n",
    "facets= np2stl.numpy2stl(mat, solid=True, mask_val= 0)\n",
    "vertices = np.array([[facet[3:6],facet[6:9],facet[9:12]] for facet in facets])\n",
    "\n",
    "print(mat)"
   ]
  },
  {
   "cell_type": "markdown",
   "metadata": {},
   "source": [
    "## View 3D object"
   ]
  },
  {
   "cell_type": "code",
   "execution_count": 4,
   "metadata": {},
   "outputs": [
    {
     "data": {
      "text/plain": [
       "<mpl_toolkits.mplot3d.axes3d.Axes3D at 0x1d3c31109c8>"
      ]
     },
     "execution_count": 4,
     "metadata": {},
     "output_type": "execute_result"
    }
   ],
   "source": [
    "np2stl.draw_3D_vertices(vertices)"
   ]
  },
  {
   "cell_type": "markdown",
   "metadata": {},
   "source": [
    "## Identify and Color each Surface"
   ]
  },
  {
   "cell_type": "code",
   "execution_count": 15,
   "metadata": {},
   "outputs": [
    {
     "data": {
      "text/plain": [
       "<mpl_toolkits.mplot3d.axes3d.Axes3D at 0x1d3cdb5fd08>"
      ]
     },
     "execution_count": 15,
     "metadata": {},
     "output_type": "execute_result"
    }
   ],
   "source": [
    "normals = np2stl.calculate_normals(vertices)\n",
    "surfaces = np2stl.get_surfaces(vertices)\n",
    "surf_color = np.array([np.abs(normals[surf[0]]) for surf in surfaces])\n",
    "np2stl.draw_3D_vertices(vertices, surfaces=surfaces, surf_color=surf_color)"
   ]
  },
  {
   "cell_type": "markdown",
   "metadata": {},
   "source": [
    "## Simplify 3D Object and View it "
   ]
  },
  {
   "cell_type": "code",
   "execution_count": 22,
   "metadata": {
    "scrolled": true
   },
   "outputs": [
    {
     "name": "stdout",
     "output_type": "stream",
     "text": [
      "Open edges exist in object\n"
     ]
    },
    {
     "data": {
      "text/plain": [
       "<mpl_toolkits.mplot3d.axes3d.Axes3D at 0x1d3d0228e88>"
      ]
     },
     "execution_count": 22,
     "metadata": {},
     "output_type": "execute_result"
    }
   ],
   "source": [
    "vertices_out = np2stl.simplify_object_3D(vertices)\n",
    "normals = np2stl.calculate_normals(vertices_out)\n",
    "surfaces = np2stl.get_surfaces(vertices_out)\n",
    "surf_color = np.array([np.abs(normals[surf[0]]) for surf in surfaces])\n",
    "np2stl.draw_3D_vertices(vertices_out, surfaces=surfaces, surf_color=surf_color )"
   ]
  },
  {
   "cell_type": "code",
   "execution_count": null,
   "metadata": {},
   "outputs": [],
   "source": []
  },
  {
   "cell_type": "code",
   "execution_count": 7,
   "metadata": {
    "scrolled": true
   },
   "outputs": [],
   "source": [
    "plt.close('all')\n",
    "\n",
    "surfaces = np2stl.get_surfaces(vertices)\n",
    "normals = np2stl.calculate_normals(vertices)\n",
    "\n",
    "for i in [-2]:\n",
    "    surf = surfaces[i]\n",
    "    normal = normals[surf][0]\n",
    "    vert_test = vertices[surf]  \n",
    "    \n",
    "    edges = np2stl.get_open_edges(vert_test)\n",
    "    perimeters = np2stl.get_ordered_perimeter(edges)\n",
    "    perimeter_2d = [np2stl.rotate_3D(peri, normal, [0,0,1] ) for peri in perimeters ]\n",
    "    [plt.plot(p[:,0],p[:,1]) for p in perimeter_2d]\n",
    "    plt.figure()\n",
    "    peri_out = np2stl.partition_concave(perimeter_2d)\n",
    "    [plt.plot(p[:,0],p[:,1]) for p in peri_out]"
   ]
  },
  {
   "cell_type": "code",
   "execution_count": 39,
   "metadata": {},
   "outputs": [],
   "source": [
    "plt.close('all')\n",
    "\n",
    "surfaces = np2stl.get_surfaces(vertices)\n",
    "normals = np2stl.calculate_normals(vertices)\n",
    "\n",
    "for i in [-2]:\n",
    "    surf = surfaces[i]\n",
    "    normal = normals[surf][0]\n",
    "    vert_test = vertices[surf]  \n",
    "    \n",
    "    edges = np2stl.get_open_edges(vert_test)\n",
    "    perimeters = np2stl.get_ordered_perimeter(edges)\n",
    "\n",
    "    ## Flatten boundry to 2D\n",
    "    perimeter_2d = [np2stl.rotate_3D(peri, normal, [0,0,1] ) for peri in perimeters ]\n",
    "    points_2d_flat = np2stl.np.concatenate(perimeter_2d)\n",
    "    \n",
    "    ## Simplify Triangulation \n",
    "    vert_2D_tri = np2stl.triangulate_polygon(perimeter_2d)\n",
    "    np2stl.draw_3D_vertices(vert_test)\n",
    "    np2stl.draw_3D_vertices(vert_2D_tri)"
   ]
  },
  {
   "cell_type": "code",
   "execution_count": 17,
   "metadata": {},
   "outputs": [
    {
     "data": {
      "text/plain": [
       "array([[[ 0.,  0.,  0.],\n",
       "        [ 0., -1.,  0.],\n",
       "        [ 1., -1.,  0.]],\n",
       "\n",
       "       [[ 0.,  0.,  0.],\n",
       "        [ 1., -1.,  0.],\n",
       "        [ 1.,  0.,  0.]],\n",
       "\n",
       "       [[ 1.,  0.,  0.],\n",
       "        [ 1., -1.,  0.],\n",
       "        [ 2., -1.,  0.]],\n",
       "\n",
       "       [[ 1.,  0.,  0.],\n",
       "        [ 2., -1.,  0.],\n",
       "        [ 2.,  0.,  0.]],\n",
       "\n",
       "       [[ 2.,  0.,  0.],\n",
       "        [ 2., -1.,  0.],\n",
       "        [ 3., -1.,  0.]],\n",
       "\n",
       "       [[ 2.,  0.,  0.],\n",
       "        [ 3., -1.,  0.],\n",
       "        [ 3.,  0.,  0.]],\n",
       "\n",
       "       [[ 3.,  0.,  0.],\n",
       "        [ 3., -1.,  0.],\n",
       "        [ 4., -1.,  0.]],\n",
       "\n",
       "       [[ 3.,  0.,  0.],\n",
       "        [ 4., -1.,  0.],\n",
       "        [ 4.,  0.,  0.]],\n",
       "\n",
       "       [[ 4.,  0.,  0.],\n",
       "        [ 4., -1.,  0.],\n",
       "        [ 5., -1.,  0.]],\n",
       "\n",
       "       [[ 4.,  0.,  0.],\n",
       "        [ 5., -1.,  0.],\n",
       "        [ 5.,  0.,  0.]],\n",
       "\n",
       "       [[ 5.,  0.,  0.],\n",
       "        [ 5., -1.,  0.],\n",
       "        [ 6., -1.,  0.]],\n",
       "\n",
       "       [[ 5.,  0.,  0.],\n",
       "        [ 6., -1.,  0.],\n",
       "        [ 6.,  0.,  0.]],\n",
       "\n",
       "       [[ 6.,  0.,  0.],\n",
       "        [ 6., -1.,  0.],\n",
       "        [ 7.,  0.,  0.]],\n",
       "\n",
       "       [[ 7.,  0.,  0.],\n",
       "        [ 6., -1.,  0.],\n",
       "        [ 6., -2.,  0.]],\n",
       "\n",
       "       [[ 7.,  0.,  0.],\n",
       "        [ 6., -2.,  0.],\n",
       "        [ 8.,  0.,  0.]],\n",
       "\n",
       "       [[ 8.,  0.,  0.],\n",
       "        [ 6., -2.,  0.],\n",
       "        [ 9., -2.,  0.]],\n",
       "\n",
       "       [[ 8.,  0.,  0.],\n",
       "        [ 9., -2.,  0.],\n",
       "        [ 9., -1.,  0.]],\n",
       "\n",
       "       [[ 8.,  0.,  0.],\n",
       "        [ 9., -1.,  0.],\n",
       "        [ 9.,  0.,  0.]],\n",
       "\n",
       "       [[ 4., -9.,  0.],\n",
       "        [ 5., -9.,  0.],\n",
       "        [ 4., -6.,  0.]],\n",
       "\n",
       "       [[ 4., -9.,  0.],\n",
       "        [ 4., -6.,  0.],\n",
       "        [ 3., -6.,  0.]],\n",
       "\n",
       "       [[ 4., -9.,  0.],\n",
       "        [ 3., -6.,  0.],\n",
       "        [ 3., -9.,  0.]],\n",
       "\n",
       "       [[ 3., -9.,  0.],\n",
       "        [ 3., -6.,  0.],\n",
       "        [ 2., -6.,  0.]],\n",
       "\n",
       "       [[ 3., -9.,  0.],\n",
       "        [ 2., -6.,  0.],\n",
       "        [ 2., -9.,  0.]],\n",
       "\n",
       "       [[ 2., -9.,  0.],\n",
       "        [ 2., -6.,  0.],\n",
       "        [ 1., -6.,  0.]],\n",
       "\n",
       "       [[ 2., -9.,  0.],\n",
       "        [ 1., -6.,  0.],\n",
       "        [ 1., -9.,  0.]],\n",
       "\n",
       "       [[ 1., -9.,  0.],\n",
       "        [ 1., -6.,  0.],\n",
       "        [ 0., -7.,  0.]],\n",
       "\n",
       "       [[ 1., -9.,  0.],\n",
       "        [ 0., -7.,  0.],\n",
       "        [ 0., -8.,  0.]],\n",
       "\n",
       "       [[ 1., -9.,  0.],\n",
       "        [ 0., -8.,  0.],\n",
       "        [ 0., -9.,  0.]],\n",
       "\n",
       "       [[ 0., -7.,  0.],\n",
       "        [ 1., -6.,  0.],\n",
       "        [ 0., -6.,  0.]],\n",
       "\n",
       "       [[ 0., -6.,  0.],\n",
       "        [ 1., -6.,  0.],\n",
       "        [ 0., -5.,  0.]],\n",
       "\n",
       "       [[ 0., -5.,  0.],\n",
       "        [ 1., -6.,  0.],\n",
       "        [ 1., -5.,  0.]],\n",
       "\n",
       "       [[ 0., -5.,  0.],\n",
       "        [ 1., -5.,  0.],\n",
       "        [ 0., -4.,  0.]],\n",
       "\n",
       "       [[ 0., -4.,  0.],\n",
       "        [ 1., -5.,  0.],\n",
       "        [ 1., -4.,  0.]],\n",
       "\n",
       "       [[ 0., -4.,  0.],\n",
       "        [ 1., -4.,  0.],\n",
       "        [ 0., -3.,  0.]],\n",
       "\n",
       "       [[ 0., -3.,  0.],\n",
       "        [ 1., -4.,  0.],\n",
       "        [ 1., -3.,  0.]],\n",
       "\n",
       "       [[ 0., -3.,  0.],\n",
       "        [ 1., -3.,  0.],\n",
       "        [ 0., -2.,  0.]],\n",
       "\n",
       "       [[ 0., -2.,  0.],\n",
       "        [ 1., -3.,  0.],\n",
       "        [ 1., -2.,  0.]],\n",
       "\n",
       "       [[ 0., -2.,  0.],\n",
       "        [ 1., -2.,  0.],\n",
       "        [ 0., -1.,  0.]],\n",
       "\n",
       "       [[ 0., -1.,  0.],\n",
       "        [ 1., -2.,  0.],\n",
       "        [ 1., -1.,  0.]],\n",
       "\n",
       "       [[ 6., -2.,  0.],\n",
       "        [ 6., -3.,  0.],\n",
       "        [ 9., -3.,  0.]],\n",
       "\n",
       "       [[ 6., -2.,  0.],\n",
       "        [ 9., -3.,  0.],\n",
       "        [ 9., -2.,  0.]],\n",
       "\n",
       "       [[ 9., -3.,  0.],\n",
       "        [ 6., -3.,  0.],\n",
       "        [ 9., -4.,  0.]],\n",
       "\n",
       "       [[ 9., -4.,  0.],\n",
       "        [ 6., -3.,  0.],\n",
       "        [ 6., -4.,  0.]],\n",
       "\n",
       "       [[ 9., -4.,  0.],\n",
       "        [ 6., -4.,  0.],\n",
       "        [ 9., -5.,  0.]],\n",
       "\n",
       "       [[ 9., -5.,  0.],\n",
       "        [ 6., -4.,  0.],\n",
       "        [ 6., -5.,  0.]],\n",
       "\n",
       "       [[ 9., -5.,  0.],\n",
       "        [ 6., -5.,  0.],\n",
       "        [ 9., -6.,  0.]],\n",
       "\n",
       "       [[ 9., -6.,  0.],\n",
       "        [ 6., -5.,  0.],\n",
       "        [ 6., -6.,  0.]],\n",
       "\n",
       "       [[ 9., -6.,  0.],\n",
       "        [ 6., -6.,  0.],\n",
       "        [ 9., -7.,  0.]],\n",
       "\n",
       "       [[ 9., -7.,  0.],\n",
       "        [ 6., -6.,  0.],\n",
       "        [ 7., -9.,  0.]],\n",
       "\n",
       "       [[ 9., -7.,  0.],\n",
       "        [ 7., -9.,  0.],\n",
       "        [ 9., -8.,  0.]],\n",
       "\n",
       "       [[ 9., -8.,  0.],\n",
       "        [ 7., -9.,  0.],\n",
       "        [ 8., -9.,  0.]],\n",
       "\n",
       "       [[ 9., -8.,  0.],\n",
       "        [ 8., -9.,  0.],\n",
       "        [ 9., -9.,  0.]],\n",
       "\n",
       "       [[ 7., -9.,  0.],\n",
       "        [ 6., -6.,  0.],\n",
       "        [ 6., -9.,  0.]],\n",
       "\n",
       "       [[ 6., -9.,  0.],\n",
       "        [ 6., -6.,  0.],\n",
       "        [ 5., -6.,  0.]],\n",
       "\n",
       "       [[ 6., -9.,  0.],\n",
       "        [ 5., -6.,  0.],\n",
       "        [ 5., -9.,  0.]],\n",
       "\n",
       "       [[ 5., -9.,  0.],\n",
       "        [ 5., -6.,  0.],\n",
       "        [ 4., -6.,  0.]]])"
      ]
     },
     "execution_count": 17,
     "metadata": {},
     "output_type": "execute_result"
    }
   ],
   "source": [
    "vert_2D_tri"
   ]
  },
  {
   "cell_type": "code",
   "execution_count": 1138,
   "metadata": {},
   "outputs": [
    {
     "data": {
      "text/plain": [
       "[[<matplotlib.lines.Line2D at 0x1dfd0199fc8>],\n",
       " [<matplotlib.lines.Line2D at 0x1dfcc77a8c8>]]"
      ]
     },
     "execution_count": 1138,
     "metadata": {},
     "output_type": "execute_result"
    }
   ],
   "source": [
    "peri_out = np2stl.partition_concave(perimeter_2d)\n",
    "[plt.plot(p[:,0],p[:,1]) for p in peri_out[::-1]]"
   ]
  },
  {
   "cell_type": "code",
   "execution_count": 1127,
   "metadata": {},
   "outputs": [
    {
     "data": {
      "text/plain": [
       "array([[[ 0.,  0.,  0.],\n",
       "        [ 1.,  0.,  0.]],\n",
       "\n",
       "       [[ 0., -1.,  0.],\n",
       "        [ 0.,  0.,  0.]],\n",
       "\n",
       "       [[ 0., -2.,  0.],\n",
       "        [ 0., -1.,  0.]],\n",
       "\n",
       "       [[ 0., -3.,  0.],\n",
       "        [ 0., -2.,  0.]],\n",
       "\n",
       "       [[ 0., -4.,  0.],\n",
       "        [ 0., -3.,  0.]],\n",
       "\n",
       "       [[ 0., -5.,  0.],\n",
       "        [ 0., -4.,  0.]],\n",
       "\n",
       "       [[ 0., -6.,  0.],\n",
       "        [ 0., -5.,  0.]],\n",
       "\n",
       "       [[ 0., -7.,  0.],\n",
       "        [ 0., -6.,  0.]],\n",
       "\n",
       "       [[ 0., -8.,  0.],\n",
       "        [ 0., -7.,  0.]],\n",
       "\n",
       "       [[ 0., -9.,  0.],\n",
       "        [ 0., -8.,  0.]],\n",
       "\n",
       "       [[ 1., -9.,  0.],\n",
       "        [ 0., -9.,  0.]],\n",
       "\n",
       "       [[ 2., -9.,  0.],\n",
       "        [ 1., -9.,  0.]],\n",
       "\n",
       "       [[ 3., -9.,  0.],\n",
       "        [ 2., -9.,  0.]],\n",
       "\n",
       "       [[ 4., -9.,  0.],\n",
       "        [ 3., -9.,  0.]],\n",
       "\n",
       "       [[ 5., -9.,  0.],\n",
       "        [ 4., -9.,  0.]],\n",
       "\n",
       "       [[ 6., -9.,  0.],\n",
       "        [ 5., -9.,  0.]],\n",
       "\n",
       "       [[ 7., -9.,  0.],\n",
       "        [ 6., -9.,  0.]],\n",
       "\n",
       "       [[ 8., -9.,  0.],\n",
       "        [ 7., -9.,  0.]],\n",
       "\n",
       "       [[ 9., -9.,  0.],\n",
       "        [ 8., -9.,  0.]],\n",
       "\n",
       "       [[ 9., -8.,  0.],\n",
       "        [ 9., -9.,  0.]],\n",
       "\n",
       "       [[ 9., -7.,  0.],\n",
       "        [ 9., -8.,  0.]],\n",
       "\n",
       "       [[ 9., -6.,  0.],\n",
       "        [ 9., -7.,  0.]],\n",
       "\n",
       "       [[ 9., -5.,  0.],\n",
       "        [ 9., -6.,  0.]],\n",
       "\n",
       "       [[ 9., -4.,  0.],\n",
       "        [ 9., -5.,  0.]],\n",
       "\n",
       "       [[ 9., -3.,  0.],\n",
       "        [ 9., -4.,  0.]],\n",
       "\n",
       "       [[ 9., -2.,  0.],\n",
       "        [ 9., -3.,  0.]],\n",
       "\n",
       "       [[ 9., -1.,  0.],\n",
       "        [ 9., -2.,  0.]],\n",
       "\n",
       "       [[ 9.,  0.,  0.],\n",
       "        [ 9., -1.,  0.]],\n",
       "\n",
       "       [[ 8.,  0.,  0.],\n",
       "        [ 9.,  0.,  0.]],\n",
       "\n",
       "       [[ 7.,  0.,  0.],\n",
       "        [ 8.,  0.,  0.]],\n",
       "\n",
       "       [[ 6.,  0.,  0.],\n",
       "        [ 7.,  0.,  0.]],\n",
       "\n",
       "       [[ 5.,  0.,  0.],\n",
       "        [ 6.,  0.,  0.]],\n",
       "\n",
       "       [[ 4.,  0.,  0.],\n",
       "        [ 5.,  0.,  0.]],\n",
       "\n",
       "       [[ 3.,  0.,  0.],\n",
       "        [ 4.,  0.,  0.]],\n",
       "\n",
       "       [[ 2.,  0.,  0.],\n",
       "        [ 3.,  0.,  0.]],\n",
       "\n",
       "       [[ 1.,  0.,  0.],\n",
       "        [ 2.,  0.,  0.]]])"
      ]
     },
     "execution_count": 1127,
     "metadata": {},
     "output_type": "execute_result"
    }
   ],
   "source": [
    "p = perimeter_2d[0]\n",
    "edges = np.array(list(zip(p, np.roll(p,1,axis=0) )))\n",
    "edges"
   ]
  },
  {
   "cell_type": "code",
   "execution_count": 11,
   "metadata": {},
   "outputs": [
    {
     "data": {
      "text/plain": [
       "[array([[0., 0., 0.],\n",
       "        [0., 1., 0.],\n",
       "        [0., 2., 0.],\n",
       "        [0., 3., 0.],\n",
       "        [0., 4., 0.],\n",
       "        [0., 5., 0.],\n",
       "        [0., 6., 0.],\n",
       "        [0., 7., 0.],\n",
       "        [0., 8., 0.],\n",
       "        [0., 9., 0.],\n",
       "        [1., 9., 0.],\n",
       "        [2., 9., 0.],\n",
       "        [3., 9., 0.],\n",
       "        [4., 9., 0.],\n",
       "        [5., 9., 0.],\n",
       "        [6., 9., 0.],\n",
       "        [7., 9., 0.],\n",
       "        [8., 9., 0.],\n",
       "        [9., 9., 0.],\n",
       "        [9., 8., 0.],\n",
       "        [9., 7., 0.],\n",
       "        [9., 6., 0.],\n",
       "        [9., 5., 0.],\n",
       "        [9., 4., 0.],\n",
       "        [9., 3., 0.],\n",
       "        [9., 2., 0.],\n",
       "        [9., 1., 0.],\n",
       "        [9., 0., 0.],\n",
       "        [8., 0., 0.],\n",
       "        [7., 0., 0.],\n",
       "        [6., 0., 0.],\n",
       "        [5., 0., 0.],\n",
       "        [4., 0., 0.],\n",
       "        [3., 0., 0.],\n",
       "        [2., 0., 0.],\n",
       "        [1., 0., 0.]]), array([[1., 2., 0.],\n",
       "        [1., 1., 0.],\n",
       "        [2., 1., 0.],\n",
       "        [3., 1., 0.],\n",
       "        [4., 1., 0.],\n",
       "        [5., 1., 0.],\n",
       "        [6., 1., 0.],\n",
       "        [6., 2., 0.],\n",
       "        [6., 3., 0.],\n",
       "        [6., 4., 0.],\n",
       "        [6., 5., 0.],\n",
       "        [6., 6., 0.],\n",
       "        [5., 6., 0.],\n",
       "        [4., 6., 0.],\n",
       "        [3., 6., 0.],\n",
       "        [2., 6., 0.],\n",
       "        [1., 6., 0.],\n",
       "        [1., 5., 0.],\n",
       "        [1., 4., 0.],\n",
       "        [1., 3., 0.]])]"
      ]
     },
     "execution_count": 11,
     "metadata": {},
     "output_type": "execute_result"
    }
   ],
   "source": []
  },
  {
   "cell_type": "code",
   "execution_count": null,
   "metadata": {},
   "outputs": [],
   "source": []
  },
  {
   "cell_type": "code",
   "execution_count": null,
   "metadata": {},
   "outputs": [],
   "source": [
    "    "
   ]
  },
  {
   "cell_type": "code",
   "execution_count": 211,
   "metadata": {},
   "outputs": [],
   "source": [
    "plt.close('all')"
   ]
  },
  {
   "cell_type": "markdown",
   "metadata": {},
   "source": [
    "## Evaluate tool preformance"
   ]
  },
  {
   "cell_type": "code",
   "execution_count": 7,
   "metadata": {
    "scrolled": true
   },
   "outputs": [
    {
     "name": "stdout",
     "output_type": "stream",
     "text": [
      "Creating top...\n",
      "Creating Edges...\n",
      "Creating bottom...\n"
     ]
    }
   ],
   "source": [
    "%lprun -f np2stl.numpy2stl np2stl.numpy2stl(mat, solid=True, mask_val= 0)"
   ]
  },
  {
   "cell_type": "code",
   "execution_count": 54,
   "metadata": {},
   "outputs": [],
   "source": [
    "%lprun -f np2stl.simplify_surface np2stl.simplify_object_3D(vertices)"
   ]
  },
  {
   "cell_type": "markdown",
   "metadata": {},
   "source": [
    "## Use for editing modules"
   ]
  },
  {
   "cell_type": "code",
   "execution_count": 750,
   "metadata": {},
   "outputs": [],
   "source": [
    "%debug np2stl.simplify_object_3D(vertices)"
   ]
  },
  {
   "cell_type": "code",
   "execution_count": null,
   "metadata": {},
   "outputs": [],
   "source": []
  }
 ],
 "metadata": {
  "kernelspec": {
   "display_name": "Python 3",
   "language": "python",
   "name": "python3"
  },
  "language_info": {
   "codemirror_mode": {
    "name": "ipython",
    "version": 3
   },
   "file_extension": ".py",
   "mimetype": "text/x-python",
   "name": "python",
   "nbconvert_exporter": "python",
   "pygments_lexer": "ipython3",
   "version": "3.7.4"
  }
 },
 "nbformat": 4,
 "nbformat_minor": 2
}
